{
 "cells": [
  {
   "cell_type": "code",
   "execution_count": 362,
   "metadata": {},
   "outputs": [
    {
     "name": "stderr",
     "output_type": "stream",
     "text": [
      "c:\\users\\apand\\appdata\\local\\programs\\python\\python36\\lib\\site-packages\\scipy\\integrate\\_ivp\\common.py:32: UserWarning: The following arguments have no effect for a chosen solver: `jac`.\n",
      "  .format(\", \".join(\"`{}`\".format(x) for x in extraneous)))\n"
     ]
    },
    {
     "name": "stdout",
     "output_type": "stream",
     "text": [
      "Solving sensitivity for parameter 1/24       \n",
      "Solving sensitivity for parameter 2/24       \n",
      "Solving sensitivity for parameter 3/24       \n",
      "Solving sensitivity for parameter 4/24       \n",
      "Solving sensitivity for parameter 5/24       \n",
      "Solving sensitivity for parameter 6/24       \n",
      "Solving sensitivity for parameter 7/24       \n",
      "Solving sensitivity for parameter 8/24       \n"
     ]
    },
    {
     "name": "stderr",
     "output_type": "stream",
     "text": [
      "c:\\users\\apand\\appdata\\local\\programs\\python\\python36\\lib\\site-packages\\scipy\\integrate\\_ivp\\rk.py:145: RuntimeWarning: divide by zero encountered in double_scalars\n",
      "  max(1, SAFETY * error_norm ** (-1 / (order + 1))))\n",
      "c:\\users\\apand\\appdata\\local\\programs\\python\\python36\\lib\\site-packages\\scipy\\integrate\\_ivp\\rk.py:145: RuntimeWarning: divide by zero encountered in double_scalars\n",
      "  max(1, SAFETY * error_norm ** (-1 / (order + 1))))\n",
      "c:\\users\\apand\\appdata\\local\\programs\\python\\python36\\lib\\site-packages\\scipy\\integrate\\_ivp\\rk.py:145: RuntimeWarning: divide by zero encountered in double_scalars\n",
      "  max(1, SAFETY * error_norm ** (-1 / (order + 1))))\n",
      "c:\\users\\apand\\appdata\\local\\programs\\python\\python36\\lib\\site-packages\\scipy\\integrate\\_ivp\\rk.py:145: RuntimeWarning: divide by zero encountered in double_scalars\n",
      "  max(1, SAFETY * error_norm ** (-1 / (order + 1))))\n",
      "c:\\users\\apand\\appdata\\local\\programs\\python\\python36\\lib\\site-packages\\scipy\\integrate\\_ivp\\rk.py:145: RuntimeWarning: divide by zero encountered in double_scalars\n",
      "  max(1, SAFETY * error_norm ** (-1 / (order + 1))))\n",
      "c:\\users\\apand\\appdata\\local\\programs\\python\\python36\\lib\\site-packages\\scipy\\integrate\\_ivp\\rk.py:145: RuntimeWarning: divide by zero encountered in double_scalars\n",
      "  max(1, SAFETY * error_norm ** (-1 / (order + 1))))\n",
      "c:\\users\\apand\\appdata\\local\\programs\\python\\python36\\lib\\site-packages\\scipy\\integrate\\_ivp\\rk.py:145: RuntimeWarning: divide by zero encountered in double_scalars\n",
      "  max(1, SAFETY * error_norm ** (-1 / (order + 1))))\n",
      "c:\\users\\apand\\appdata\\local\\programs\\python\\python36\\lib\\site-packages\\scipy\\integrate\\_ivp\\rk.py:145: RuntimeWarning: divide by zero encountered in double_scalars\n",
      "  max(1, SAFETY * error_norm ** (-1 / (order + 1))))\n",
      "c:\\users\\apand\\appdata\\local\\programs\\python\\python36\\lib\\site-packages\\scipy\\integrate\\_ivp\\rk.py:145: RuntimeWarning: divide by zero encountered in double_scalars\n",
      "  max(1, SAFETY * error_norm ** (-1 / (order + 1))))\n",
      "c:\\users\\apand\\appdata\\local\\programs\\python\\python36\\lib\\site-packages\\scipy\\integrate\\_ivp\\rk.py:145: RuntimeWarning: divide by zero encountered in double_scalars\n",
      "  max(1, SAFETY * error_norm ** (-1 / (order + 1))))\n"
     ]
    },
    {
     "name": "stdout",
     "output_type": "stream",
     "text": [
      "\r",
      "Solving sensitivity for parameter 9/24       \n"
     ]
    },
    {
     "name": "stderr",
     "output_type": "stream",
     "text": [
      "c:\\users\\apand\\appdata\\local\\programs\\python\\python36\\lib\\site-packages\\scipy\\integrate\\_ivp\\rk.py:145: RuntimeWarning: divide by zero encountered in double_scalars\n",
      "  max(1, SAFETY * error_norm ** (-1 / (order + 1))))\n",
      "c:\\users\\apand\\appdata\\local\\programs\\python\\python36\\lib\\site-packages\\scipy\\integrate\\_ivp\\rk.py:145: RuntimeWarning: divide by zero encountered in double_scalars\n",
      "  max(1, SAFETY * error_norm ** (-1 / (order + 1))))\n",
      "c:\\users\\apand\\appdata\\local\\programs\\python\\python36\\lib\\site-packages\\scipy\\integrate\\_ivp\\rk.py:145: RuntimeWarning: divide by zero encountered in double_scalars\n",
      "  max(1, SAFETY * error_norm ** (-1 / (order + 1))))\n",
      "c:\\users\\apand\\appdata\\local\\programs\\python\\python36\\lib\\site-packages\\scipy\\integrate\\_ivp\\rk.py:145: RuntimeWarning: divide by zero encountered in double_scalars\n",
      "  max(1, SAFETY * error_norm ** (-1 / (order + 1))))\n",
      "c:\\users\\apand\\appdata\\local\\programs\\python\\python36\\lib\\site-packages\\scipy\\integrate\\_ivp\\rk.py:145: RuntimeWarning: divide by zero encountered in double_scalars\n",
      "  max(1, SAFETY * error_norm ** (-1 / (order + 1))))\n",
      "c:\\users\\apand\\appdata\\local\\programs\\python\\python36\\lib\\site-packages\\scipy\\integrate\\_ivp\\rk.py:145: RuntimeWarning: divide by zero encountered in double_scalars\n",
      "  max(1, SAFETY * error_norm ** (-1 / (order + 1))))\n",
      "c:\\users\\apand\\appdata\\local\\programs\\python\\python36\\lib\\site-packages\\scipy\\integrate\\_ivp\\rk.py:145: RuntimeWarning: divide by zero encountered in double_scalars\n",
      "  max(1, SAFETY * error_norm ** (-1 / (order + 1))))\n",
      "c:\\users\\apand\\appdata\\local\\programs\\python\\python36\\lib\\site-packages\\scipy\\integrate\\_ivp\\rk.py:145: RuntimeWarning: divide by zero encountered in double_scalars\n",
      "  max(1, SAFETY * error_norm ** (-1 / (order + 1))))\n"
     ]
    },
    {
     "name": "stdout",
     "output_type": "stream",
     "text": [
      "\r",
      "Solving sensitivity for parameter 10/24       \n"
     ]
    },
    {
     "name": "stderr",
     "output_type": "stream",
     "text": [
      "c:\\users\\apand\\appdata\\local\\programs\\python\\python36\\lib\\site-packages\\scipy\\integrate\\_ivp\\rk.py:145: RuntimeWarning: divide by zero encountered in double_scalars\n",
      "  max(1, SAFETY * error_norm ** (-1 / (order + 1))))\n",
      "c:\\users\\apand\\appdata\\local\\programs\\python\\python36\\lib\\site-packages\\scipy\\integrate\\_ivp\\rk.py:145: RuntimeWarning: divide by zero encountered in double_scalars\n",
      "  max(1, SAFETY * error_norm ** (-1 / (order + 1))))\n",
      "c:\\users\\apand\\appdata\\local\\programs\\python\\python36\\lib\\site-packages\\scipy\\integrate\\_ivp\\rk.py:145: RuntimeWarning: divide by zero encountered in double_scalars\n",
      "  max(1, SAFETY * error_norm ** (-1 / (order + 1))))\n",
      "c:\\users\\apand\\appdata\\local\\programs\\python\\python36\\lib\\site-packages\\scipy\\integrate\\_ivp\\rk.py:145: RuntimeWarning: divide by zero encountered in double_scalars\n",
      "  max(1, SAFETY * error_norm ** (-1 / (order + 1))))\n",
      "c:\\users\\apand\\appdata\\local\\programs\\python\\python36\\lib\\site-packages\\scipy\\integrate\\_ivp\\rk.py:145: RuntimeWarning: divide by zero encountered in double_scalars\n",
      "  max(1, SAFETY * error_norm ** (-1 / (order + 1))))\n",
      "c:\\users\\apand\\appdata\\local\\programs\\python\\python36\\lib\\site-packages\\scipy\\integrate\\_ivp\\rk.py:145: RuntimeWarning: divide by zero encountered in double_scalars\n",
      "  max(1, SAFETY * error_norm ** (-1 / (order + 1))))\n",
      "c:\\users\\apand\\appdata\\local\\programs\\python\\python36\\lib\\site-packages\\scipy\\integrate\\_ivp\\rk.py:145: RuntimeWarning: divide by zero encountered in double_scalars\n",
      "  max(1, SAFETY * error_norm ** (-1 / (order + 1))))\n",
      "c:\\users\\apand\\appdata\\local\\programs\\python\\python36\\lib\\site-packages\\scipy\\integrate\\_ivp\\rk.py:145: RuntimeWarning: divide by zero encountered in double_scalars\n",
      "  max(1, SAFETY * error_norm ** (-1 / (order + 1))))\n",
      "c:\\users\\apand\\appdata\\local\\programs\\python\\python36\\lib\\site-packages\\scipy\\integrate\\_ivp\\rk.py:145: RuntimeWarning: divide by zero encountered in double_scalars\n",
      "  max(1, SAFETY * error_norm ** (-1 / (order + 1))))\n"
     ]
    },
    {
     "name": "stdout",
     "output_type": "stream",
     "text": [
      "Solving sensitivity for parameter 11/24       \n",
      "Solving sensitivity for parameter 12/24       \n",
      "Solving sensitivity for parameter 13/24       \n",
      "Solving sensitivity for parameter 14/24       \n",
      "Solving sensitivity for parameter 15/24       \n",
      "Solving sensitivity for parameter 16/24       \n",
      "Solving sensitivity for parameter 17/24       \n"
     ]
    },
    {
     "name": "stderr",
     "output_type": "stream",
     "text": [
      "c:\\users\\apand\\appdata\\local\\programs\\python\\python36\\lib\\site-packages\\scipy\\integrate\\_ivp\\rk.py:145: RuntimeWarning: divide by zero encountered in double_scalars\n",
      "  max(1, SAFETY * error_norm ** (-1 / (order + 1))))\n",
      "c:\\users\\apand\\appdata\\local\\programs\\python\\python36\\lib\\site-packages\\scipy\\integrate\\_ivp\\rk.py:145: RuntimeWarning: divide by zero encountered in double_scalars\n",
      "  max(1, SAFETY * error_norm ** (-1 / (order + 1))))\n",
      "c:\\users\\apand\\appdata\\local\\programs\\python\\python36\\lib\\site-packages\\scipy\\integrate\\_ivp\\rk.py:145: RuntimeWarning: divide by zero encountered in double_scalars\n",
      "  max(1, SAFETY * error_norm ** (-1 / (order + 1))))\n",
      "c:\\users\\apand\\appdata\\local\\programs\\python\\python36\\lib\\site-packages\\scipy\\integrate\\_ivp\\rk.py:145: RuntimeWarning: divide by zero encountered in double_scalars\n",
      "  max(1, SAFETY * error_norm ** (-1 / (order + 1))))\n",
      "c:\\users\\apand\\appdata\\local\\programs\\python\\python36\\lib\\site-packages\\scipy\\integrate\\_ivp\\rk.py:145: RuntimeWarning: divide by zero encountered in double_scalars\n",
      "  max(1, SAFETY * error_norm ** (-1 / (order + 1))))\n",
      "c:\\users\\apand\\appdata\\local\\programs\\python\\python36\\lib\\site-packages\\scipy\\integrate\\_ivp\\rk.py:145: RuntimeWarning: divide by zero encountered in double_scalars\n",
      "  max(1, SAFETY * error_norm ** (-1 / (order + 1))))\n",
      "c:\\users\\apand\\appdata\\local\\programs\\python\\python36\\lib\\site-packages\\scipy\\integrate\\_ivp\\rk.py:145: RuntimeWarning: divide by zero encountered in double_scalars\n",
      "  max(1, SAFETY * error_norm ** (-1 / (order + 1))))\n",
      "c:\\users\\apand\\appdata\\local\\programs\\python\\python36\\lib\\site-packages\\scipy\\integrate\\_ivp\\rk.py:145: RuntimeWarning: divide by zero encountered in double_scalars\n",
      "  max(1, SAFETY * error_norm ** (-1 / (order + 1))))\n",
      "c:\\users\\apand\\appdata\\local\\programs\\python\\python36\\lib\\site-packages\\scipy\\integrate\\_ivp\\rk.py:145: RuntimeWarning: divide by zero encountered in double_scalars\n",
      "  max(1, SAFETY * error_norm ** (-1 / (order + 1))))\n"
     ]
    },
    {
     "name": "stdout",
     "output_type": "stream",
     "text": [
      "Solving sensitivity for parameter 18/24       \n",
      "Solving sensitivity for parameter 19/24       \n",
      "Solving sensitivity for parameter 20/24       \n",
      "Solving sensitivity for parameter 21/24       \n",
      "Solving sensitivity for parameter 22/24       \n",
      "Solving sensitivity for parameter 23/24       \n",
      "Solving sensitivity for parameter 24/24       \n"
     ]
    },
    {
     "name": "stderr",
     "output_type": "stream",
     "text": [
      "c:\\users\\apand\\appdata\\local\\programs\\python\\python36\\lib\\site-packages\\scipy\\integrate\\_ivp\\rk.py:145: RuntimeWarning: divide by zero encountered in double_scalars\n",
      "  max(1, SAFETY * error_norm ** (-1 / (order + 1))))\n",
      "c:\\users\\apand\\appdata\\local\\programs\\python\\python36\\lib\\site-packages\\scipy\\integrate\\_ivp\\rk.py:145: RuntimeWarning: divide by zero encountered in double_scalars\n",
      "  max(1, SAFETY * error_norm ** (-1 / (order + 1))))\n",
      "c:\\users\\apand\\appdata\\local\\programs\\python\\python36\\lib\\site-packages\\scipy\\integrate\\_ivp\\rk.py:145: RuntimeWarning: divide by zero encountered in double_scalars\n",
      "  max(1, SAFETY * error_norm ** (-1 / (order + 1))))\n",
      "c:\\users\\apand\\appdata\\local\\programs\\python\\python36\\lib\\site-packages\\scipy\\integrate\\_ivp\\rk.py:145: RuntimeWarning: divide by zero encountered in double_scalars\n",
      "  max(1, SAFETY * error_norm ** (-1 / (order + 1))))\n",
      "c:\\users\\apand\\appdata\\local\\programs\\python\\python36\\lib\\site-packages\\scipy\\integrate\\_ivp\\rk.py:145: RuntimeWarning: divide by zero encountered in double_scalars\n",
      "  max(1, SAFETY * error_norm ** (-1 / (order + 1))))\n",
      "c:\\users\\apand\\appdata\\local\\programs\\python\\python36\\lib\\site-packages\\scipy\\integrate\\_ivp\\rk.py:145: RuntimeWarning: divide by zero encountered in double_scalars\n",
      "  max(1, SAFETY * error_norm ** (-1 / (order + 1))))\n",
      "c:\\users\\apand\\appdata\\local\\programs\\python\\python36\\lib\\site-packages\\scipy\\integrate\\_ivp\\rk.py:145: RuntimeWarning: divide by zero encountered in double_scalars\n",
      "  max(1, SAFETY * error_norm ** (-1 / (order + 1))))\n",
      "c:\\users\\apand\\appdata\\local\\programs\\python\\python36\\lib\\site-packages\\scipy\\integrate\\_ivp\\rk.py:145: RuntimeWarning: divide by zero encountered in double_scalars\n",
      "  max(1, SAFETY * error_norm ** (-1 / (order + 1))))\n",
      "c:\\users\\apand\\appdata\\local\\programs\\python\\python36\\lib\\site-packages\\scipy\\integrate\\_ivp\\rk.py:145: RuntimeWarning: divide by zero encountered in double_scalars\n",
      "  max(1, SAFETY * error_norm ** (-1 / (order + 1))))\n"
     ]
    }
   ],
   "source": [
    "from unnamed_sensitivity_package import *\n",
    "import numpy as np\n",
    "import scipy\n",
    "\n",
    "\n",
    "P = np.zeros(24)\n",
    "P[0] = 6\n",
    "P[1] = 2e-3\n",
    "P[2] = 430\n",
    "P[3] = 30\n",
    "P[4] = 6\n",
    "P[5] = 2e-3\n",
    "P[6] = 190\n",
    "P[7] = 19.8e-3\n",
    "P[8] = 1.5e-3\n",
    "P[9] = 1.4e5\n",
    "P[10] = 14.4e-3\n",
    "P[11] = 2.1e-4\n",
    "P[12] = 13\n",
    "P[13] = 0.6\n",
    "P[14] = 5500\n",
    "P[15] = 0.8\n",
    "P[16] = 1e6\n",
    "P[17] = 1e3\n",
    "P[18] = 324\n",
    "P[19] = 5\n",
    "P[20] = 0.1\n",
    "P[21] = 1.5\n",
    "P[22] = 1\n",
    "\n",
    "x0 = np.zeros(4)\n",
    "x0[3] = 10\n",
    "from Bcell import Bcell\n",
    "x_sol, sensitivity_sol = solve_extended_ode(Bcell, P,\n",
    "                                            t_min = 0, t_max = 40,init = x0,\n",
    "                                            method = \"RK45\")"
   ]
  },
  {
   "cell_type": "code",
   "execution_count": 369,
   "metadata": {},
   "outputs": [],
   "source": [
    "timepoints = np.linspace(0,40,100)\n",
    "sens_C2 = []\n",
    "for i in range(len(P)):\n",
    "    sens_C2.append(np.abs(sensitivity_sol[i](timepoints)[3]))\n",
    "#     sens_C2.append(sensitivity_sol[i](timepoints)[3])\n"
   ]
  },
  {
   "cell_type": "code",
   "execution_count": 370,
   "metadata": {},
   "outputs": [
    {
     "data": {
      "image/png": "[encoded data removed]",
      "text/plain": [
       "<Figure size 432x288 with 2 Axes>"
      ]
     },
     "metadata": {},
     "output_type": "display_data"
    }
   ],
   "source": [
    "%matplotlib inline\n",
    "import seaborn as sns\n",
    "cmap = sns.cubehelix_palette(150, start=2, rot=0.4, dark=-0.2, light=0.59, reverse=False)\n",
    "bcell_plot = sns.heatmap(sens_C2, cmap=cmap,xticklabels = False)\n",
    "fig = bcell_plot.get_figure()\n",
    "fig.savefig('B_cell_sens.pdf')"
   ]
  }
 ],
 "metadata": {
  "kernelspec": {
   "display_name": "Python 3",
   "language": "python",
   "name": "python3"
  },
  "language_info": {
   "codemirror_mode": {
    "name": "ipython",
    "version": 3
   },
   "file_extension": ".py",
   "mimetype": "text/x-python",
   "name": "python",
   "nbconvert_exporter": "python",
   "pygments_lexer": "ipython3",
   "version": "3.6.5"
  }
 },
 "nbformat": 4,
 "nbformat_minor": 2
}
